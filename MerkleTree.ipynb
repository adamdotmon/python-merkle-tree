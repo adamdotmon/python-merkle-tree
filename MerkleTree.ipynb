{
 "cells": [
  {
   "cell_type": "markdown",
   "id": "f8e2b9fa",
   "metadata": {},
   "source": [
    "### Merkle Trees in Python\n",
    "This Python notebook serves as a reference in understanding how Merkle Trees work, their functionalities, and simulates how the Merkle tree data structure works typically for blockchains.\n"
   ]
  },
  {
   "cell_type": "markdown",
   "id": "aa060069",
   "metadata": {},
   "source": [
    "\n",
    "## What Are Merkle Trees?\n",
    "Merkle trees are hash-based binary tree data structures used to efficienctly verify the integrity and consistency of large datasets. Named after Ralph Merkle, they are used in blockchain systems like Bitcoin and Ethereum to summarize and secure data, such as transactions in a block.\n",
    "\n",
    "1. Key Properties \n",
    "- Tamper-Evidence: Merkle trees ensure data integrity by detecting tampering. A change in a data item (e.g., a transaction) alters its leaf hash, causing changes to propagate up and eventually change the Merkle root. A mismatch between the computed and expected root signals that tampering has occurred.\n",
    "\n",
    "- Efficiency: Merkle trees allow quick verification of data within a large dataset by only requiring minimal information. This is done by utilising Merkle proofs to prove that a specific data block is part of a larger dataset, without needing to send the entire dataset, requiring only O(log n) hashes to prove a data item's inclusion. \n",
    "\n",
    "- Scalability: By summarizing thousands of data items into a single Merkle root, Merkle trees enable compact storage (e.g., in blockchain headers) and efficient processing, making it ideal for large datasets and distributed systems.\n",
    "\n",
    "2. Structure\n",
    "At its core, a merkle tree is a balanced binary tree that utilises cryptographic hashes. Similar to a binary tree a merkle tree has:\n",
    "- Leaf Nodes which store cryptographic hashes of data items (typically, SHA-256 is used for hashing). Each node has at most 2 children.\n",
    "\n",
    "- Parent / Branch Nodes that store hashes of their two children's hashes, of which the hashes are computed recursively up to a single Merkle Root (i.e. Root Node). \n",
    "\n",
    "- A Balanced Hierarchical Structure where the tree has a height of O(log n) for n leaves, with leaf nodes at the bottom and a single root at the top, ensuring efficient operations.\n",
    "\n",
    "3. Merkle Proofs\n",
    "Merkle proofs are a key feature of Merkle trees, enabling efficient and secure verification of data inclusion. A Merkle proof is a sequence of sibling hashes along the path from a leaf to the root, used to verify that a specific data item is part of the tree without needing the entire dataset.\n",
    "\n",
    "- How it Works: To prove a leaf’s inclusion, provide its hash and the sibling hashes at each level. The verifier recomputes the Merkle root by hashing the leaf with its sibling, then hashing the result with the next sibling, up to the root. If the recomputed root matches the known root, the proof is valid.\n",
    "\n",
    "- Efficiency: While the input size grows linearly O(n), Merkle proofs require only O(log n) hashes due to the tree’s logarithmic height, making verification fast even for large datasets.\n",
    "\n",
    "- Lightweight: Proofs enable light clients (e.g., Bitcoin’s SPV clients / Crypto Wallets) to verify transactions without storing the full blockchain, ideal for resource-constrained devices.\n",
    "\n",
    "- Trustless: Proofs rely on cryptographic hashes, allowing verification without trusting the data provider, as long as the Merkle root is trusted.\n",
    "\n",
    "- Tamper-Evidence: An incorrect proof results in a mismatched root, ensuring data integrity."
   ]
  },
  {
   "cell_type": "markdown",
   "id": "1c6ff862",
   "metadata": {},
   "source": [
    "## Components of a Merkle Tree\n",
    "To implement the simluation of a merkle tree data structure in Python, this notebook comprises of the following components to build the merkle tree:\n",
    "\n",
    "1. Hash Function\n",
    "2. Leaf Node Creation\n",
    "3. Tree Construction\n",
    "4. Proof Generation\n",
    "5. Proof Verification"
   ]
  },
  {
   "cell_type": "markdown",
   "id": "c020e01e",
   "metadata": {},
   "source": [
    "# 1. Hash Function\n",
    "First lets start with the hash function. The hash function converts data into a fixed-size SHA-256 hash, a key step for Merkle trees in blockchains like Bitcoin and Ethereum. We use Python’s `hashlib` module to hash a string input into a 32-byte hash, ensuring data integrity.  Notice how the hash always outputs 32 bytes or 64 characters when displayed as a hexadecimal (2 chars per byte). Run the cell below to see the output."
   ]
  },
  {
   "cell_type": "code",
   "execution_count": 6,
   "id": "29078220",
   "metadata": {},
   "outputs": [
    {
     "name": "stdout",
     "output_type": "stream",
     "text": [
      "output_str1 (bytes): b'\\xbd\\xe4i>U\\xa36\\xff\\x81\\xab#\\x8c\\xe2\\x0c\\xae\\x1d\\xd9\\xc8\\xba\\x03\\xb9\\xb8\\xf49c\\xf5V\\x9b\\xf3\\xcfR)'\n",
      "output_str2 (bytes): b'\\xbc\\xad\\x10\\xeeS\\xaf1\\xca\\xc1.5\\x8e\\xd6\\xb8F\\xd5\\x0e~\\xc4\\xb5f\\x9e\\xf6\\xae\\xd5\\xb5s\\x8f\\xe6$\\x8b\\x16'\n",
      "output_str1 (hex): bde4693e55a336ff81ab238ce20cae1dd9c8ba03b9b8f43963f5569bf3cf5229\n",
      "output_str2 (hex): bcad10ee53af31cac12e358ed6b846d50e7ec4b5669ef6aed5b5738fe6248b16\n"
     ]
    }
   ],
   "source": [
    "import hashlib\n",
    "def sha256_hash(data: str) -> bytes:\n",
    "    \"\"\"Hash a string using SHA-256, returning a 32-byte hash.\n",
    "    Args:\n",
    "        data: Input string to hash (encoded as UTF-8).\n",
    "    Returns:\n",
    "        32-byte SHA-256 hash.\n",
    "    \"\"\"\n",
    "    return hashlib.sha256(data.encode('utf-8')).digest()\n",
    "\n",
    "input_data1 = \"transaction1\"\n",
    "input_data2 = \"txn1\"\n",
    "output_str1 =  sha256_hash(input_data1)\n",
    "output_str2 =  sha256_hash(input_data2)\n",
    "print(f\"output_str1 (bytes): {output_str1}\")\n",
    "print(f\"output_str2 (bytes): {output_str2}\")\n",
    "print(f\"output_str1 (hex): {output_str1.hex()}\")\n",
    "print(f\"output_str2 (hex): {output_str2.hex()}\")"
   ]
  },
  {
   "cell_type": "markdown",
   "id": "428b65a2",
   "metadata": {},
   "source": [
    "# 2. Leaf Node Creation\n"
   ]
  },
  {
   "cell_type": "markdown",
   "id": "f2415fa8",
   "metadata": {},
   "source": [
    "# 3. Tree Construction"
   ]
  },
  {
   "cell_type": "markdown",
   "id": "a2aac954",
   "metadata": {},
   "source": [
    "# 4. Proof Generation"
   ]
  },
  {
   "cell_type": "markdown",
   "id": "ea157c15",
   "metadata": {},
   "source": [
    "# 5. Proof Verification"
   ]
  },
  {
   "cell_type": "markdown",
   "id": "789dce99",
   "metadata": {},
   "source": [
    "### Putting it Altogether"
   ]
  },
  {
   "cell_type": "markdown",
   "id": "b4cd5f66",
   "metadata": {},
   "source": [
    "### References\n",
    "1. [Introduction to Merkle Tree by Geeks for Geeks](https://www.geeksforgeeks.org/introduction-to-merkle-tree/) \n",
    "2. [What are Merkle trees? By Alchemy](https://www.alchemy.com/docs/what-are-merkle-trees)\n",
    "3. [Balanced Binary Tree by Geeks for Geeks](https://www.geeksforgeeks.org/balanced-binary-tree/)"
   ]
  }
 ],
 "metadata": {
  "kernelspec": {
   "display_name": ".venv",
   "language": "python",
   "name": "python3"
  },
  "language_info": {
   "codemirror_mode": {
    "name": "ipython",
    "version": 3
   },
   "file_extension": ".py",
   "mimetype": "text/x-python",
   "name": "python",
   "nbconvert_exporter": "python",
   "pygments_lexer": "ipython3",
   "version": "3.13.3"
  }
 },
 "nbformat": 4,
 "nbformat_minor": 5
}
