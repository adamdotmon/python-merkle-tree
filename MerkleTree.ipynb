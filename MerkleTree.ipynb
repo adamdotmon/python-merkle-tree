{
 "cells": [
  {
   "cell_type": "markdown",
   "id": "f8e2b9fa",
   "metadata": {},
   "source": [
    "### Merkle Trees in Python\n",
    "This python notebook serves as a reference in understanding how Merkle Trees work, their functionalities, and simulates how the merkle tree data structure works typicall in blockchains. \n",
    "\n",
    "## What are merkle trees\n",
    "1. Me"
   ]
  },
  {
   "cell_type": "markdown",
   "id": "b4cd5f66",
   "metadata": {},
   "source": [
    "### References\n",
    "1. [Introduction to Merkle Tree by Geeks for Geeks](https://www.geeksforgeeks.org/introduction-to-merkle-tree/) "
   ]
  },
  {
   "cell_type": "code",
   "execution_count": null,
   "id": "29078220",
   "metadata": {},
   "outputs": [
    {
     "name": "stdout",
     "output_type": "stream",
     "text": [
      "very good\n"
     ]
    }
   ],
   "source": []
  },
  {
   "cell_type": "code",
   "execution_count": null,
   "id": "1a42a710",
   "metadata": {},
   "outputs": [],
   "source": []
  }
 ],
 "metadata": {
  "kernelspec": {
   "display_name": ".venv",
   "language": "python",
   "name": "python3"
  },
  "language_info": {
   "codemirror_mode": {
    "name": "ipython",
    "version": 3
   },
   "file_extension": ".py",
   "mimetype": "text/x-python",
   "name": "python",
   "nbconvert_exporter": "python",
   "pygments_lexer": "ipython3",
   "version": "3.13.3"
  }
 },
 "nbformat": 4,
 "nbformat_minor": 5
}
